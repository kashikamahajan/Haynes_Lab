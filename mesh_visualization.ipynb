{
 "cells": [
  {
   "cell_type": "code",
   "execution_count": 2,
   "id": "97d3053e-59ff-4e2f-8890-7ae2aca6a512",
   "metadata": {},
   "outputs": [],
   "source": [
    "from caveclient import CAVEclient\n",
    "from cloudvolume import CloudVolume\n",
    "\n",
    "cv = CloudVolume(\"precomputed://gs://iarpa_microns/minnie/minnie65/seg_m1300\", use_https=True)\n"
   ]
  },
  {
   "cell_type": "code",
   "execution_count": 3,
   "id": "2e394a02-4803-4133-817c-f577149b9188",
   "metadata": {},
   "outputs": [],
   "source": [
    "\n",
    "\n",
    "cv = CloudVolume(\"precomputed://gs://iarpa_microns/minnie/minnie65/seg_m1300\", use_https=True)"
   ]
  },
  {
   "cell_type": "code",
   "execution_count": 4,
   "id": "ee0e4b5e-5cb0-4f1f-9640-ea1881facc83",
   "metadata": {},
   "outputs": [
    {
     "name": "stderr",
     "output_type": "stream",
     "text": [
      "100%|█████████████████████████████████████████████| 1/1 [00:00<00:00,  2.54it/s]\n"
     ]
    },
    {
     "data": {
      "text/plain": [
       "<vtkmodules.vtkRenderingOpenGL2.vtkOpenGLRenderer(0x13bb55000) at 0x13f6711e0>"
      ]
     },
     "execution_count": 4,
     "metadata": {},
     "output_type": "execute_result"
    }
   ],
   "source": [
    "from meshparty import trimesh_vtk\n",
    "\n",
    "mesh = cv.mesh.get(864691133190214690, lod=2)[864691133190214690]\n",
    "mesh_actor = trimesh_vtk.mesh_actor(mesh,\n",
    "                                    color=(1,0,0),\n",
    "                                    opacity=0.5)\n",
    "trimesh_vtk.render_actors([mesh_actor])"
   ]
  },
  {
   "cell_type": "code",
   "execution_count": null,
   "id": "eda8f182-a7de-4dda-bc19-e31e9c8abde5",
   "metadata": {},
   "outputs": [],
   "source": []
  },
  {
   "cell_type": "code",
   "execution_count": null,
   "id": "309ce188-8d3d-45ac-857f-2910f763c181",
   "metadata": {},
   "outputs": [],
   "source": []
  },
  {
   "cell_type": "code",
   "execution_count": null,
   "id": "57852f0c-875d-4e08-b26b-b31f91201871",
   "metadata": {},
   "outputs": [],
   "source": []
  }
 ],
 "metadata": {
  "kernelspec": {
   "display_name": "Python 3 (ipykernel)",
   "language": "python",
   "name": "python3"
  },
  "language_info": {
   "codemirror_mode": {
    "name": "ipython",
    "version": 3
   },
   "file_extension": ".py",
   "mimetype": "text/x-python",
   "name": "python",
   "nbconvert_exporter": "python",
   "pygments_lexer": "ipython3",
   "version": "3.12.2"
  }
 },
 "nbformat": 4,
 "nbformat_minor": 5
}
