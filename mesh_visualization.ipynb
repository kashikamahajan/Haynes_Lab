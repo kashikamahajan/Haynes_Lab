{
 "cells": [
  {
   "cell_type": "code",
   "execution_count": 1,
   "id": "97d3053e-59ff-4e2f-8890-7ae2aca6a512",
   "metadata": {},
   "outputs": [],
   "source": [
    "from caveclient import CAVEclient\n",
    "from cloudvolume import CloudVolume\n",
    "from meshparty import trimesh_vtk\n",
    "import trimesh"
   ]
  },
  {
   "cell_type": "code",
   "execution_count": 2,
   "id": "2e394a02-4803-4133-817c-f577149b9188",
   "metadata": {},
   "outputs": [],
   "source": [
    "cv = CloudVolume(\"precomputed://gs://iarpa_microns/minnie/minnie65/seg_m1300\", use_https=True)"
   ]
  },
  {
   "cell_type": "code",
   "execution_count": null,
   "id": "0bb86719-c55b-41e4-be96-cce04e879772",
   "metadata": {},
   "outputs": [],
   "source": []
  },
  {
   "cell_type": "code",
   "execution_count": 3,
   "id": "ee0e4b5e-5cb0-4f1f-9640-ea1881facc83",
   "metadata": {},
   "outputs": [
    {
     "name": "stderr",
     "output_type": "stream",
     "text": [
      "100%|█████████████████████████████████████████████| 1/1 [00:00<00:00,  1.26it/s]\n"
     ]
    },
    {
     "data": {
      "text/plain": [
       "bytes"
      ]
     },
     "execution_count": 3,
     "metadata": {},
     "output_type": "execute_result"
    }
   ],
   "source": [
    "\n",
    "mesh = cv.mesh.get(864691136194411734, lod=2)[864691136194411734]\n",
    "mesh_actor = trimesh_vtk.mesh_actor(mesh,\n",
    "                                    color=(1,0,0),\n",
    "                                    opacity=0.5)\n",
    "mesh_obj=(mesh.to_obj())\n",
    "type(mesh_obj)"
   ]
  },
  {
   "cell_type": "code",
   "execution_count": 4,
   "id": "eda8f182-a7de-4dda-bc19-e31e9c8abde5",
   "metadata": {},
   "outputs": [
    {
     "name": "stdout",
     "output_type": "stream",
     "text": [
      "(31237, 3) (58510, 3)\n"
     ]
    }
   ],
   "source": [
    "print(mesh.vertices.shape, mesh.faces.shape)"
   ]
  },
  {
   "cell_type": "code",
   "execution_count": null,
   "id": "309ce188-8d3d-45ac-857f-2910f763c181",
   "metadata": {},
   "outputs": [],
   "source": [
    "def mesh_to_binary_volume(mesh, pitch: float = 1.0):\n",
    "    \"\"\"\n",
    "    Convert cloudvolume Mesh into a 3D binary numpy array.\n",
    "    \n",
    "    Parameters\n",
    "    ----------\n",
    "    mesh : cloudvolume.mesh.Mesh\n",
    "        The mesh object from CloudVolume.\n",
    "    pitch : float\n",
    "        The voxel size (resolution) in the same units as the mesh coordinates.\n",
    "    \n",
    "    Returns\n",
    "    -------\n",
    "    voxels : np.ndarray\n",
    "        3D boolean array, True = inside the mesh.\n",
    "    transform : np.ndarray\n",
    "        Affine transform to map voxel indices back to world coordinates.\n",
    "    \"\"\"\n",
    "    # Convert CloudVolume mesh into trimesh\n",
    "    tm = trimesh.Trimesh(vertices=mesh.vertices, faces=mesh.faces, process=False)\n",
    "\n",
    "    # Voxelize mesh at given pitch\n",
    "    v = tm.voxelized(pitch=pitch)\n",
    "\n",
    "    # Export dense boolean matrix\n",
    "    voxels = v.matrix.astype(bool)\n",
    "\n",
    "    # Affine transform to world space\n",
    "    transform = v.transform  \n",
    "\n",
    "    return voxels, transform\n",
    "\n",
    "binary_mask, transform = mesh_to_binary_volume(mesh, pitch=0.2)\n",
    "\n",
    "print(binary_mask.shape, binary_mask.dtype)  # e.g. (100, 120, 80) bool\n"
   ]
  },
  {
   "cell_type": "code",
   "execution_count": null,
   "id": "57852f0c-875d-4e08-b26b-b31f91201871",
   "metadata": {},
   "outputs": [],
   "source": []
  }
 ],
 "metadata": {
  "kernelspec": {
   "display_name": "Python 3 (ipykernel)",
   "language": "python",
   "name": "python3"
  },
  "language_info": {
   "codemirror_mode": {
    "name": "ipython",
    "version": 3
   },
   "file_extension": ".py",
   "mimetype": "text/x-python",
   "name": "python",
   "nbconvert_exporter": "python",
   "pygments_lexer": "ipython3",
   "version": "3.12.2"
  }
 },
 "nbformat": 4,
 "nbformat_minor": 5
}
